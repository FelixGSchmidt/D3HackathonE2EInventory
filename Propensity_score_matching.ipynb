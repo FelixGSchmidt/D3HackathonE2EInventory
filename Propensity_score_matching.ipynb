{
 "cells": [
  {
   "cell_type": "code",
   "execution_count": 3,
   "metadata": {},
   "outputs": [],
   "source": [
    "import pandas as pd\n",
    "from datetime import datetime\n",
    "import numpy as np\n",
    "from scipy import stats\n",
    "import matplotlib.pyplot as plt\n",
    "from sklearn.linear_model import LogisticRegression\n",
    "import seaborn as sns\n",
    "import statsmodels.api as sm"
   ]
  },
  {
   "cell_type": "markdown",
   "metadata": {},
   "source": [
    "## Load data"
   ]
  },
  {
   "cell_type": "code",
   "execution_count": 4,
   "metadata": {},
   "outputs": [],
   "source": [
    "# treatment group post-exp\n",
    "T_e2e_post = pd.read_csv('order_e2e_post_500.csv')  "
   ]
  },
  {
   "cell_type": "code",
   "execution_count": 5,
   "metadata": {},
   "outputs": [],
   "source": [
    "T_other_comp0 =  pd.read_csv('control_demand_vlt.csv') # load the ave-demand and ave-vlt for all sku-dc pairs "
   ]
  },
  {
   "cell_type": "code",
   "execution_count": 6,
   "metadata": {},
   "outputs": [
    {
     "data": {
      "text/plain": [
       "55333"
      ]
     },
     "execution_count": 6,
     "metadata": {},
     "output_type": "execute_result"
    }
   ],
   "source": [
    "len(T_other_comp0)"
   ]
  },
  {
   "cell_type": "code",
   "execution_count": 7,
   "metadata": {},
   "outputs": [
    {
     "data": {
      "text/plain": [
       "500"
      ]
     },
     "execution_count": 7,
     "metadata": {},
     "output_type": "execute_result"
    }
   ],
   "source": [
    "len(T_e2e_post)"
   ]
  },
  {
   "cell_type": "code",
   "execution_count": 8,
   "metadata": {},
   "outputs": [],
   "source": [
    "N_e2e = len(T_e2e_post)\n",
    "N_other = len(T_other_comp0)"
   ]
  },
  {
   "cell_type": "code",
   "execution_count": 9,
   "metadata": {},
   "outputs": [],
   "source": [
    "vlt_e2e = []\n",
    "for i in range(N_e2e):\n",
    "#     if type(T_e2e_post.vlt[i]) == int:\n",
    "#         vlt_e2e.append(T_e2e_post.vlt[i])\n",
    "#     else:\n",
    "    vlt_e2e.append(int(T_e2e_post.vlt.values[i].split(' ')[0]))"
   ]
  },
  {
   "cell_type": "code",
   "execution_count": 10,
   "metadata": {},
   "outputs": [],
   "source": [
    "T_e2e_post['vlt_num'] = vlt_e2e"
   ]
  },
  {
   "cell_type": "code",
   "execution_count": 11,
   "metadata": {},
   "outputs": [
    {
     "name": "stderr",
     "output_type": "stream",
     "text": [
      "<ipython-input-11-48dc572a4f5e>:2: SettingWithCopyWarning: \n",
      "A value is trying to be set on a copy of a slice from a DataFrame.\n",
      "Try using .loc[row_indexer,col_indexer] = value instead\n",
      "\n",
      "See the caveats in the documentation: https://pandas.pydata.org/pandas-docs/stable/user_guide/indexing.html#returning-a-view-versus-a-copy\n",
      "  test['e2e'] = np.ones(N_e2e)\n",
      "<ipython-input-11-48dc572a4f5e>:4: SettingWithCopyWarning: \n",
      "A value is trying to be set on a copy of a slice from a DataFrame.\n",
      "Try using .loc[row_indexer,col_indexer] = value instead\n",
      "\n",
      "See the caveats in the documentation: https://pandas.pydata.org/pandas-docs/stable/user_guide/indexing.html#returning-a-view-versus-a-copy\n",
      "  control['e2e'] = np.zeros(N_other)\n"
     ]
    }
   ],
   "source": [
    "test = T_e2e_post[['ave_demand', 'vlt_num']]\n",
    "test['e2e'] = np.ones(N_e2e)\n",
    "control = T_other_comp0[['ave_demand', 'vlt_num']]\n",
    "control['e2e'] = np.zeros(N_other)"
   ]
  },
  {
   "cell_type": "code",
   "execution_count": 12,
   "metadata": {},
   "outputs": [],
   "source": [
    "origin_data = pd.concat([test, control], ignore_index=True)"
   ]
  },
  {
   "cell_type": "code",
   "execution_count": 13,
   "metadata": {},
   "outputs": [],
   "source": [
    "#calculate original propensity score:\n",
    "propensity = LogisticRegression()\n",
    "propensity = propensity.fit(origin_data[['ave_demand', 'vlt_num']], origin_data.e2e)\n",
    "pscore = propensity.predict_proba(origin_data[['ave_demand', 'vlt_num']])[:,1] # The predicted propensities by the model"
   ]
  },
  {
   "cell_type": "code",
   "execution_count": 14,
   "metadata": {},
   "outputs": [
    {
     "data": {
      "image/png": "[encoded data removed]",
      "text/plain": [
       "<Figure size 432x288 with 1 Axes>"
      ]
     },
     "metadata": {
      "needs_background": "light"
     },
     "output_type": "display_data"
    }
   ],
   "source": [
    "sns.distplot(pscore[:N_e2e], hist = True, bins = 10, label = 'Treatment')\n",
    "sns.distplot(pscore[N_e2e:], hist = True, bins = 10, label = 'Control')\n",
    "plt.legend()\n",
    "#plt.xlim(left = 0.003, right = 0.017) \n",
    "# plt.show()\n",
    "plt.savefig('prop_score_prep.pdf')"
   ]
  },
  {
   "cell_type": "code",
   "execution_count": 15,
   "metadata": {},
   "outputs": [],
   "source": [
    "from sklearn.preprocessing import StandardScaler\n",
    "from sklearn.neighbors import NearestNeighbors\n",
    "\n",
    "def get_matching_pairs(treated_df, non_treated_df):\n",
    "\n",
    "    treated_x = treated_df.values\n",
    "    non_treated_x = non_treated_df.values\n",
    "#     if scaler == True:\n",
    "#         scaler = StandardScaler()\n",
    "#     if scaler:\n",
    "#         scaler.fit(treated_x)\n",
    "#         treated_x = scaler.transform(treated_x)\n",
    "#         non_treated_x = scaler.transform(non_treated_x)\n",
    "\n",
    "    nbrs = NearestNeighbors(n_neighbors=1, algorithm='auto').fit(non_treated_x)\n",
    "    distances, indices = nbrs.kneighbors(treated_x)\n",
    "#     print(indices.reshape(-1,3)[:,2])\n",
    "    indices = indices.reshape(indices.shape[0])\n",
    "    return indices\n",
    "\n",
    "matched_idx = get_matching_pairs(test, control)\n",
    "\n",
    "T_matched_comp = T_other_comp0.iloc[matched_idx]\n",
    "\n",
    "# plt.hist(T_matched_comp.vlt_num, bins = 6)\n",
    "# plt.show()"
   ]
  },
  {
   "cell_type": "code",
   "execution_count": 16,
   "metadata": {},
   "outputs": [],
   "source": [
    "control1 = control.iloc[matched_idx]\n",
    "prop_data = pd.concat([test, control1], ignore_index=True)\n",
    "pscore = propensity.predict_proba(prop_data[['ave_demand', 'vlt_num']])[:,1] # The predicted propensities by the model"
   ]
  },
  {
   "cell_type": "code",
   "execution_count": 17,
   "metadata": {},
   "outputs": [
    {
     "data": {
      "image/png": "[encoded data removed]",
      "text/plain": [
       "<Figure size 432x288 with 1 Axes>"
      ]
     },
     "metadata": {
      "needs_background": "light"
     },
     "output_type": "display_data"
    }
   ],
   "source": [
    "sns.distplot(pscore[:N_e2e], hist = True, bins = 10, label = 'Treatment')\n",
    "sns.distplot(pscore[N_e2e:], hist = True, bins = 10, label = 'Control')\n",
    "plt.legend()\n",
    "plt.savefig('prop_score2.pdf')\n",
    "plt.show()"
   ]
  },
  {
   "cell_type": "code",
   "execution_count": null,
   "metadata": {},
   "outputs": [],
   "source": []
  }
 ],
 "metadata": {
  "kernelspec": {
   "display_name": "Python 3",
   "language": "python",
   "name": "python3"
  },
  "language_info": {
   "codemirror_mode": {
    "name": "ipython",
    "version": 3
   },
   "file_extension": ".py",
   "mimetype": "text/x-python",
   "name": "python",
   "nbconvert_exporter": "python",
   "pygments_lexer": "ipython3",
   "version": "3.8.3"
  }
 },
 "nbformat": 4,
 "nbformat_minor": 4
}
