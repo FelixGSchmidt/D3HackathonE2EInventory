{
 "cells": [
  {
   "cell_type": "code",
   "execution_count": 1,
   "metadata": {},
   "outputs": [],
   "source": [
    "import pandas as pd\n",
    "from datetime import datetime\n",
    "import numpy as np\n",
    "from scipy import stats\n",
    "import matplotlib.pyplot as plt\n",
    "from sklearn.linear_model import LogisticRegression\n",
    "import seaborn as sns\n",
    "import statsmodels.api as sm"
   ]
  },
  {
   "cell_type": "markdown",
   "metadata": {},
   "source": [
    "# Load data"
   ]
  },
  {
   "cell_type": "code",
   "execution_count": 2,
   "metadata": {},
   "outputs": [],
   "source": [
    "T_e2e_share = pd.read_csv('order_e2e_pre_500.csv')  # load teatment group pre-exp\n",
    "T_e2e_post = pd.read_csv('order_e2e_post_500.csv')  # load teatment group post-exp\n",
    "T_other_share = pd.read_csv('order_jd_pre_500.csv')  # load control group pre-exp"
   ]
  },
  {
   "cell_type": "code",
   "execution_count": 3,
   "metadata": {},
   "outputs": [],
   "source": [
    "T_matched_comp = pd.read_csv('order_jd_post_500.csv')    # load control group post-exp"
   ]
  },
  {
   "cell_type": "markdown",
   "metadata": {},
   "source": [
    "# Calculate Inventory Management Performance Metric"
   ]
  },
  {
   "cell_type": "code",
   "execution_count": 5,
   "metadata": {},
   "outputs": [],
   "source": [
    "h=1\n",
    "b=9"
   ]
  },
  {
   "cell_type": "markdown",
   "metadata": {},
   "source": [
    "## Treatment Group, Post Exp"
   ]
  },
  {
   "cell_type": "code",
   "execution_count": 6,
   "metadata": {},
   "outputs": [],
   "source": [
    "# calculate inventory metric\n",
    "T_e2e_comp = T_e2e_post\n",
    "e2e_holding_cost =  []\n",
    "e2e_stockout_cost = []\n",
    "e2e_total_cost = []\n",
    "e2e_turnover = []\n",
    "e2e_stockout_ratio = []\n",
    "N_e2e = len(T_e2e_comp)\n",
    "for n in range(N_e2e):\n",
    "    inv = T_e2e_comp.iloc[n].test_inv\n",
    "    inv =[float(s) for s in inv[1:len(inv)-1].split(',')]\n",
    "    holding_cost = 0\n",
    "    stockout_cost = 0\n",
    "    stockout_day = 0\n",
    "    T = len(inv)\n",
    "    for t in range(T-1):\n",
    "        cur_inv = inv[t]\n",
    "        if(cur_inv>= 0):\n",
    "            holding_cost += h*cur_inv\n",
    "        else:\n",
    "            stockout_cost += -b*cur_inv\n",
    "            stockout_day+=1\n",
    "    turnover = T_e2e_comp.iloc[n].ave_inv/T_e2e_comp.iloc[n].ave_demand\n",
    "    stockout_ratio = stockout_day/T\n",
    "    \n",
    "    e2e_holding_cost.append(holding_cost)\n",
    "    e2e_stockout_cost.append(stockout_cost)\n",
    "    e2e_total_cost.append(holding_cost+stockout_cost)\n",
    "    e2e_turnover.append(turnover)\n",
    "    e2e_stockout_ratio.append(stockout_ratio)"
   ]
  },
  {
   "cell_type": "code",
   "execution_count": 7,
   "metadata": {},
   "outputs": [
    {
     "name": "stdout",
     "output_type": "stream",
     "text": [
      "Algorithm A Average Holding cost:  497.99\n",
      "Algorithm A Average Stockout cost:  386.1\n",
      "Algorithm A Average Total cost:  884.09\n",
      "Algorithm A Average Turnover rate:  12.268704620140678\n",
      "Algorithm A Average Stockout rate:  0.10827010628260629\n"
     ]
    }
   ],
   "source": [
    "print('Algorithm A Average Holding cost: ', np.mean(e2e_holding_cost))\n",
    "print('Algorithm A Average Stockout cost: ', np.mean(e2e_stockout_cost))\n",
    "print('Algorithm A Average Total cost: ', np.mean(e2e_total_cost))\n",
    "e2e_turnover1 = [max(0, item) for item in e2e_turnover]\n",
    "print('Algorithm A Average Turnover rate: ', np.mean(e2e_turnover1))\n",
    "print('Algorithm A Average Stockout rate: ', np.mean(e2e_stockout_ratio))"
   ]
  },
  {
   "cell_type": "markdown",
   "metadata": {},
   "source": [
    "## Control Group, Post Exp"
   ]
  },
  {
   "cell_type": "code",
   "execution_count": 91,
   "metadata": {},
   "outputs": [],
   "source": [
    "# calculate inventory metric\n",
    "N_match = len(T_matched_comp)\n",
    "jd_holding_cost =  []\n",
    "jd_stockout_cost = []\n",
    "jd_total_cost = []\n",
    "jd_turnover = []\n",
    "jd_stockout_ratio = []\n",
    "for n in range(N_match):\n",
    "    inv = T_matched_comp.iloc[n].test_inv\n",
    "    inv =[float(s) for s in inv[1:len(inv)-1].split(',')]\n",
    "    holding_cost = 0\n",
    "    stockout_cost = 0\n",
    "    stockout_day = 0\n",
    "    T =  len(inv)\n",
    "    for t in range(T-1):\n",
    "        cur_inv = inv[t]\n",
    "        if(cur_inv>=0):\n",
    "            holding_cost += h*cur_inv\n",
    "        else:\n",
    "            stockout_cost += -b*cur_inv\n",
    "#             if(T_matched_comp.iloc[n].test_demand[t]<=0):\n",
    "#             if(cur_inv<=0):\n",
    "            stockout_day+=1\n",
    "    turnover = T_matched_comp.iloc[n].ave_inv/T_matched_comp.iloc[n].ave_demand\n",
    "    stockout_ratio = stockout_day/T\n",
    "    \n",
    "    jd_holding_cost.append(holding_cost)\n",
    "    jd_stockout_cost.append(stockout_cost)\n",
    "    jd_total_cost.append(holding_cost+stockout_cost)\n",
    "    jd_turnover.append(turnover)\n",
    "    jd_stockout_ratio.append(stockout_ratio)"
   ]
  },
  {
   "cell_type": "code",
   "execution_count": 92,
   "metadata": {},
   "outputs": [
    {
     "name": "stdout",
     "output_type": "stream",
     "text": [
      "Algorithm B Average Holding cost:  841.428\n",
      "Algorithm B Average Holding Stockout cost:  1143.72\n",
      "Algorithm B Average Total cost:  1985.148\n",
      "Algorithm B Average Turnover rate:  18.47105619138942\n",
      "Algorithm B Average Stockout rate:  0.23652916666666668\n"
     ]
    }
   ],
   "source": [
    "print('Algorithm B Average Holding cost: ', np.mean(jd_holding_cost))\n",
    "print('Algorithm B Average Holding Stockout cost: ', np.mean(jd_stockout_cost))\n",
    "print('Algorithm B Average Total cost: ', np.mean(jd_total_cost))\n",
    "jd_turnover1 = [max(0, item) for item in jd_turnover]\n",
    "print('Algorithm B Average Turnover rate: ', np.mean(jd_turnover1))\n",
    "print('Algorithm B Average Stockout rate: ', np.mean(jd_stockout_ratio))"
   ]
  },
  {
   "cell_type": "markdown",
   "metadata": {},
   "source": [
    "## T-test"
   ]
  },
  {
   "cell_type": "code",
   "execution_count": 93,
   "metadata": {},
   "outputs": [
    {
     "name": "stdout",
     "output_type": "stream",
     "text": [
      "t =  -7.57492193507139\n",
      "p =  8.176636956450516e-14\n"
     ]
    }
   ],
   "source": [
    "# t-test holding cost:\n",
    "a = np.array(e2e_holding_cost)\n",
    "b = np.array(jd_holding_cost)\n",
    "t, p = stats.ttest_ind(a,b)\n",
    "print(\"t = \" , str(t))\n",
    "print(\"p = \" , str(p))"
   ]
  },
  {
   "cell_type": "code",
   "execution_count": 94,
   "metadata": {},
   "outputs": [
    {
     "name": "stdout",
     "output_type": "stream",
     "text": [
      "t =  -7.765646288944399\n",
      "p =  2.0079594211986885e-14\n"
     ]
    }
   ],
   "source": [
    "# t-test stockout cost:\n",
    "a = np.array(e2e_stockout_cost)\n",
    "b = np.array(jd_stockout_cost)\n",
    "t, p = stats.ttest_ind(a,b)\n",
    "print(\"t = \" , str(t))\n",
    "print(\"p = \" , str(p))"
   ]
  },
  {
   "cell_type": "code",
   "execution_count": 95,
   "metadata": {},
   "outputs": [
    {
     "name": "stdout",
     "output_type": "stream",
     "text": [
      "t =  -11.914765084142427\n",
      "p =  1.0703809200101026e-30\n"
     ]
    }
   ],
   "source": [
    "# t-test total cost:\n",
    "a = np.array(e2e_total_cost)\n",
    "b = np.array(jd_total_cost)\n",
    "t, p = stats.ttest_ind(a,b)\n",
    "print(\"t = \" , str(t))\n",
    "print(\"p = \" , str(p))"
   ]
  },
  {
   "cell_type": "code",
   "execution_count": 96,
   "metadata": {},
   "outputs": [
    {
     "name": "stdout",
     "output_type": "stream",
     "text": [
      "t =  -5.477551569311841\n",
      "p =  5.4587417669170734e-08\n"
     ]
    }
   ],
   "source": [
    "# t-test turnover:\n",
    "a = np.array(e2e_turnover1)\n",
    "b = np.array(jd_turnover1)\n",
    "t, p = stats.ttest_ind(a,b)\n",
    "print(\"t = \" , str(t))\n",
    "print(\"p = \" , str(p))"
   ]
  },
  {
   "cell_type": "code",
   "execution_count": 97,
   "metadata": {},
   "outputs": [
    {
     "name": "stdout",
     "output_type": "stream",
     "text": [
      "t =  -8.427020034813369\n",
      "p =  1.2259502974682909e-16\n"
     ]
    }
   ],
   "source": [
    "# t-test stockout:\n",
    "a = np.array(e2e_stockout_ratio)\n",
    "b = np.array(jd_stockout_ratio)\n",
    "t, p = stats.ttest_ind(a,b)\n",
    "print(\"t = \" , str(t))\n",
    "print(\"p = \" , str(p))"
   ]
  },
  {
   "cell_type": "markdown",
   "metadata": {},
   "source": [
    "## Linear Regression"
   ]
  },
  {
   "cell_type": "code",
   "execution_count": 98,
   "metadata": {},
   "outputs": [],
   "source": [
    "x_demand = np.concatenate((T_e2e_comp.ave_demand, T_matched_comp.ave_demand), axis = 0)"
   ]
  },
  {
   "cell_type": "code",
   "execution_count": 99,
   "metadata": {},
   "outputs": [],
   "source": [
    "\n",
    "vlt_e2e = []\n",
    "for i in range(N_e2e):\n",
    "    if type(T_e2e_comp.vlt[i]) == int:\n",
    "        vlt_e2e.append(T_e2e_comp.vlt[i])\n",
    "    else:\n",
    "#         vlt_e2e.append(T_e2e_comp.vlt[i].days)\n",
    "        vlt_e2e.append(int(T_e2e_comp.vlt.values[i].split(' ')[0]))\n",
    "        "
   ]
  },
  {
   "cell_type": "code",
   "execution_count": 100,
   "metadata": {},
   "outputs": [],
   "source": [
    "vlt_match = []#T_matched_comp.vlt.dt.days.values\n",
    "for i in range(N_e2e):\n",
    "#     if type(T_matched_comp.vlt[i]) == int:\n",
    "#         vlt_match.append(T_matched_comp.vlt[i])\n",
    "#     else:\n",
    "#         vlt_match.append(T_matched_comp.vlt[i].days)\n",
    "    vlt_match.append(int(T_matched_comp.vlt.values[i].split(' ')[0]))"
   ]
  },
  {
   "cell_type": "code",
   "execution_count": 101,
   "metadata": {},
   "outputs": [],
   "source": [
    "x_vlt = np.concatenate((vlt_e2e,vlt_match), axis = 0)\n",
    "\n",
    "x_e2e = np.concatenate((np.ones(N_e2e), np.zeros(N_e2e)), axis = 0)"
   ]
  },
  {
   "cell_type": "code",
   "execution_count": 102,
   "metadata": {},
   "outputs": [
    {
     "name": "stdout",
     "output_type": "stream",
     "text": [
      "                                 OLS Regression Results                                \n",
      "=======================================================================================\n",
      "Dep. Variable:                      y   R-squared (uncentered):                   0.468\n",
      "Model:                            OLS   Adj. R-squared (uncentered):              0.467\n",
      "Method:                 Least Squares   F-statistic:                              292.8\n",
      "Date:                Tue, 12 Jan 2021   Prob (F-statistic):                   2.89e-136\n",
      "Time:                        13:18:58   Log-Likelihood:                         -8006.2\n",
      "No. Observations:                1000   AIC:                                  1.602e+04\n",
      "Df Residuals:                     997   BIC:                                  1.603e+04\n",
      "Df Model:                           3                                                  \n",
      "Covariance Type:            nonrobust                                                  \n",
      "==============================================================================\n",
      "                 coef    std err          t      P>|t|      [0.025      0.975]\n",
      "------------------------------------------------------------------------------\n",
      "e2e         -220.5290     43.355     -5.087      0.000    -305.606    -135.452\n",
      "vlt           22.5708      3.146      7.176      0.000      16.398      28.743\n",
      "d            237.6181     13.332     17.823      0.000     211.456     263.780\n",
      "==============================================================================\n",
      "Omnibus:                      232.781   Durbin-Watson:                   1.896\n",
      "Prob(Omnibus):                  0.000   Jarque-Bera (JB):              493.560\n",
      "Skew:                           1.301   Prob(JB):                    6.68e-108\n",
      "Kurtosis:                       5.252   Cond. No.                         19.8\n",
      "==============================================================================\n",
      "\n",
      "Warnings:\n",
      "[1] Standard Errors assume that the covariance matrix of the errors is correctly specified.\n"
     ]
    }
   ],
   "source": [
    "#holding cost\n",
    "a = np.array(e2e_holding_cost)\n",
    "b = np.array(jd_holding_cost)\n",
    "y = np.concatenate((a,b), axis = 0)\n",
    "df_lr = pd.DataFrame({'y': y, 'e2e':x_e2e, 'vlt':x_vlt, 'd':x_demand})\n",
    "X = df_lr.drop('y',1)\n",
    "model = sm.OLS(y, X)\n",
    "lr =model.fit()\n",
    "print(lr.summary())\n"
   ]
  },
  {
   "cell_type": "code",
   "execution_count": 103,
   "metadata": {},
   "outputs": [
    {
     "name": "stdout",
     "output_type": "stream",
     "text": [
      "                                 OLS Regression Results                                \n",
      "=======================================================================================\n",
      "Dep. Variable:                      y   R-squared (uncentered):                   0.289\n",
      "Model:                            OLS   Adj. R-squared (uncentered):              0.287\n",
      "Method:                 Least Squares   F-statistic:                              135.1\n",
      "Date:                Tue, 12 Jan 2021   Prob (F-statistic):                    1.88e-73\n",
      "Time:                        13:18:58   Log-Likelihood:                         -8722.4\n",
      "No. Observations:                1000   AIC:                                  1.745e+04\n",
      "Df Residuals:                     997   BIC:                                  1.747e+04\n",
      "Df Model:                           3                                                  \n",
      "Covariance Type:            nonrobust                                                  \n",
      "==============================================================================\n",
      "                 coef    std err          t      P>|t|      [0.025      0.975]\n",
      "------------------------------------------------------------------------------\n",
      "e2e         -735.2393     88.725     -8.287      0.000    -909.349    -561.130\n",
      "vlt           37.9006      6.437      5.888      0.000      25.268      50.533\n",
      "d            360.5972     27.284     13.216      0.000     307.056     414.138\n",
      "==============================================================================\n",
      "Omnibus:                      456.904   Durbin-Watson:                   1.960\n",
      "Prob(Omnibus):                  0.000   Jarque-Bera (JB):             1964.437\n",
      "Skew:                           2.191   Prob(JB):                         0.00\n",
      "Kurtosis:                       8.286   Cond. No.                         19.8\n",
      "==============================================================================\n",
      "\n",
      "Warnings:\n",
      "[1] Standard Errors assume that the covariance matrix of the errors is correctly specified.\n"
     ]
    }
   ],
   "source": [
    "#stockout cost\n",
    "a = np.array(e2e_stockout_cost)\n",
    "b = np.array(jd_stockout_cost)\n",
    "y = np.concatenate((a,b), axis = 0)\n",
    "df_lr = pd.DataFrame({'y': y, 'e2e':x_e2e, 'vlt':x_vlt, 'd':x_demand})\n",
    "X = df_lr.drop('y',1)\n",
    "model = sm.OLS(y, X)\n",
    "lr =model.fit()\n",
    "print(lr.summary())"
   ]
  },
  {
   "cell_type": "code",
   "execution_count": 104,
   "metadata": {},
   "outputs": [
    {
     "name": "stdout",
     "output_type": "stream",
     "text": [
      "                                 OLS Regression Results                                \n",
      "=======================================================================================\n",
      "Dep. Variable:                      y   R-squared (uncentered):                   0.581\n",
      "Model:                            OLS   Adj. R-squared (uncentered):              0.580\n",
      "Method:                 Least Squares   F-statistic:                              461.3\n",
      "Date:                Tue, 12 Jan 2021   Prob (F-statistic):                   6.88e-188\n",
      "Time:                        13:18:59   Log-Likelihood:                         -8642.6\n",
      "No. Observations:                1000   AIC:                                  1.729e+04\n",
      "Df Residuals:                     997   BIC:                                  1.731e+04\n",
      "Df Model:                           3                                                  \n",
      "Covariance Type:            nonrobust                                                  \n",
      "==============================================================================\n",
      "                 coef    std err          t      P>|t|      [0.025      0.975]\n",
      "------------------------------------------------------------------------------\n",
      "e2e         -955.7684     81.925    -11.666      0.000   -1116.533    -795.004\n",
      "vlt           60.4714      5.944     10.174      0.000      48.807      72.135\n",
      "d            598.2153     25.193     23.745      0.000     548.778     647.653\n",
      "==============================================================================\n",
      "Omnibus:                      285.930   Durbin-Watson:                   2.031\n",
      "Prob(Omnibus):                  0.000   Jarque-Bera (JB):              843.170\n",
      "Skew:                           1.426   Prob(JB):                    8.09e-184\n",
      "Kurtosis:                       6.479   Cond. No.                         19.8\n",
      "==============================================================================\n",
      "\n",
      "Warnings:\n",
      "[1] Standard Errors assume that the covariance matrix of the errors is correctly specified.\n"
     ]
    }
   ],
   "source": [
    "#total cost\n",
    "a = np.array(e2e_total_cost)\n",
    "b = np.array(jd_total_cost)\n",
    "y = np.concatenate((a,b), axis = 0)\n",
    "df_lr = pd.DataFrame({'y': y, 'e2e':x_e2e, 'vlt':x_vlt, 'd':x_demand})\n",
    "X = df_lr.drop('y',1)\n",
    "model = sm.OLS(y, X)\n",
    "lr =model.fit()\n",
    "print(lr.summary())"
   ]
  },
  {
   "cell_type": "code",
   "execution_count": 105,
   "metadata": {},
   "outputs": [
    {
     "name": "stdout",
     "output_type": "stream",
     "text": [
      "                                 OLS Regression Results                                \n",
      "=======================================================================================\n",
      "Dep. Variable:                      y   R-squared (uncentered):                   0.309\n",
      "Model:                            OLS   Adj. R-squared (uncentered):              0.307\n",
      "Method:                 Least Squares   F-statistic:                              148.5\n",
      "Date:                Tue, 12 Jan 2021   Prob (F-statistic):                    1.52e-79\n",
      "Time:                        13:18:59   Log-Likelihood:                         -4403.3\n",
      "No. Observations:                1000   AIC:                                      8813.\n",
      "Df Residuals:                     997   BIC:                                      8827.\n",
      "Df Model:                           3                                                  \n",
      "Covariance Type:            nonrobust                                                  \n",
      "==============================================================================\n",
      "                 coef    std err          t      P>|t|      [0.025      0.975]\n",
      "------------------------------------------------------------------------------\n",
      "e2e            0.3458      1.181      0.293      0.770      -1.972       2.664\n",
      "vlt            0.9171      0.086     10.702      0.000       0.749       1.085\n",
      "d              1.8675      0.363      5.141      0.000       1.155       2.580\n",
      "==============================================================================\n",
      "Omnibus:                      660.367   Durbin-Watson:                   1.831\n",
      "Prob(Omnibus):                  0.000   Jarque-Bera (JB):            10022.146\n",
      "Skew:                           2.818   Prob(JB):                         0.00\n",
      "Kurtosis:                      17.449   Cond. No.                         19.8\n",
      "==============================================================================\n",
      "\n",
      "Warnings:\n",
      "[1] Standard Errors assume that the covariance matrix of the errors is correctly specified.\n"
     ]
    }
   ],
   "source": [
    "#turnover rate\n",
    "a = np.array(e2e_turnover1)\n",
    "b = np.array(jd_turnover1)\n",
    "y = np.concatenate((a,b), axis = 0)\n",
    "df_lr = pd.DataFrame({'y': y, 'e2e':x_e2e, 'vlt':x_vlt, 'd':x_demand})\n",
    "X = df_lr.drop('y',1)\n",
    "model = sm.OLS(y, X)\n",
    "lr =model.fit()\n",
    "print(lr.summary())"
   ]
  },
  {
   "cell_type": "code",
   "execution_count": 106,
   "metadata": {},
   "outputs": [
    {
     "name": "stdout",
     "output_type": "stream",
     "text": [
      "                                 OLS Regression Results                                \n",
      "=======================================================================================\n",
      "Dep. Variable:                      y   R-squared (uncentered):                   0.380\n",
      "Model:                            OLS   Adj. R-squared (uncentered):              0.378\n",
      "Method:                 Least Squares   F-statistic:                              203.5\n",
      "Date:                Tue, 12 Jan 2021   Prob (F-statistic):                   5.93e-103\n",
      "Time:                        13:18:59   Log-Likelihood:                          14.906\n",
      "No. Observations:                1000   AIC:                                     -23.81\n",
      "Df Residuals:                     997   BIC:                                     -9.089\n",
      "Df Model:                           3                                                  \n",
      "Covariance Type:            nonrobust                                                  \n",
      "==============================================================================\n",
      "                 coef    std err          t      P>|t|      [0.025      0.975]\n",
      "------------------------------------------------------------------------------\n",
      "e2e           -0.1019      0.014     -7.156      0.000      -0.130      -0.074\n",
      "vlt            0.0129      0.001     12.488      0.000       0.011       0.015\n",
      "d              0.0454      0.004     10.370      0.000       0.037       0.054\n",
      "==============================================================================\n",
      "Omnibus:                      190.965   Durbin-Watson:                   2.033\n",
      "Prob(Omnibus):                  0.000   Jarque-Bera (JB):              316.172\n",
      "Skew:                           1.230   Prob(JB):                     2.21e-69\n",
      "Kurtosis:                       4.241   Cond. No.                         19.8\n",
      "==============================================================================\n",
      "\n",
      "Warnings:\n",
      "[1] Standard Errors assume that the covariance matrix of the errors is correctly specified.\n"
     ]
    }
   ],
   "source": [
    "#stockout rate\n",
    "a = np.array(e2e_stockout_ratio)\n",
    "b = np.array(jd_stockout_ratio)\n",
    "y = np.concatenate((a,b), axis = 0)\n",
    "df_lr = pd.DataFrame({'y': y, 'e2e':x_e2e, 'vlt':x_vlt, 'd':x_demand})\n",
    "X = df_lr.drop('y',1)\n",
    "model = sm.OLS(y, X)\n",
    "lr =model.fit()\n",
    "print(lr.summary())"
   ]
  },
  {
   "cell_type": "markdown",
   "metadata": {},
   "source": [
    "# Difference-in-Difference Estimation"
   ]
  },
  {
   "cell_type": "code",
   "execution_count": 107,
   "metadata": {},
   "outputs": [],
   "source": [
    "post_exp_e2e = [e2e_holding_cost, e2e_stockout_cost, e2e_total_cost, e2e_turnover1, e2e_stockout_ratio]\n",
    "post_exp_jd = [jd_holding_cost, jd_stockout_cost, jd_total_cost, jd_turnover, jd_stockout_ratio]"
   ]
  },
  {
   "cell_type": "code",
   "execution_count": 108,
   "metadata": {},
   "outputs": [],
   "source": [
    "h=1\n",
    "b=9"
   ]
  },
  {
   "cell_type": "markdown",
   "metadata": {},
   "source": [
    "## Treatment Group, Pre Exp"
   ]
  },
  {
   "cell_type": "code",
   "execution_count": 109,
   "metadata": {},
   "outputs": [],
   "source": [
    "# calculate inventory metric\n",
    "T_e2e_comp = T_e2e_share\n",
    "e2e_holding_cost =  []\n",
    "e2e_stockout_cost = []\n",
    "e2e_total_cost = []\n",
    "e2e_turnover = []\n",
    "e2e_stockout_ratio = []\n",
    "for n in range(len(T_e2e_comp)):\n",
    "    inv = T_e2e_comp.iloc[n].test_inv\n",
    "    inv =[float(s) for s in inv[1:len(inv)-1].split(',')]\n",
    "    holding_cost = 0\n",
    "    stockout_cost = 0\n",
    "    stockout_day = 0\n",
    "#     T = len(T_e2e_comp.iloc[n].test_demand)\n",
    "    T = len(inv)\n",
    "    for t in range(T-1):\n",
    "#         print(t)\n",
    "#         print(T)\n",
    "#         print(inv)\n",
    "        cur_inv = inv[t]\n",
    "        if(cur_inv>= 0):\n",
    "            holding_cost += h*cur_inv\n",
    "        else:\n",
    "            stockout_cost += -b*cur_inv\n",
    "#             if(T_e2e_comp.iloc[n].test_demand[t]<=0):\n",
    "            stockout_day+=1\n",
    "    turnover = T_e2e_comp.iloc[n].ave_inv/T_e2e_comp.iloc[n].ave_demand\n",
    "#     turnover = np.maximum(0, T_e2e_comp.iloc[n].ave_inv/T_e2e_comp.iloc[n].ave_demand)\n",
    "    stockout_ratio = stockout_day/T\n",
    "    \n",
    "    e2e_holding_cost.append(holding_cost)\n",
    "    e2e_stockout_cost.append(stockout_cost)\n",
    "    e2e_total_cost.append(holding_cost+stockout_cost)\n",
    "    e2e_turnover.append(turnover)\n",
    "    e2e_stockout_ratio.append(stockout_ratio)"
   ]
  },
  {
   "cell_type": "code",
   "execution_count": 110,
   "metadata": {},
   "outputs": [
    {
     "name": "stdout",
     "output_type": "stream",
     "text": [
      "Algorithm A Average Holding cost:  666.394\n",
      "Algorithm A Average Stockout cost:  815.868\n",
      "Algorithm A Average Total cost:  1482.262\n",
      "Algorithm A Average Turnover rate:  15.487856815194194\n",
      "Algorithm A Average Stockout rate:  0.23613333333333333\n"
     ]
    }
   ],
   "source": [
    "print('Algorithm A Average Holding cost: ', np.mean(e2e_holding_cost))\n",
    "print('Algorithm A Average Stockout cost: ', np.mean(e2e_stockout_cost))\n",
    "print('Algorithm A Average Total cost: ', np.mean(e2e_total_cost))\n",
    "e2e_turnover1 = [max(0, item) for item in e2e_turnover]\n",
    "print('Algorithm A Average Turnover rate: ', np.mean(e2e_turnover1))\n",
    "print('Algorithm A Average Stockout rate: ', np.mean(e2e_stockout_ratio))"
   ]
  },
  {
   "cell_type": "markdown",
   "metadata": {},
   "source": [
    "## Control Group, Pre Exp"
   ]
  },
  {
   "cell_type": "code",
   "execution_count": 111,
   "metadata": {},
   "outputs": [],
   "source": [
    "# calculate inventory metric\n",
    "T_matched_comp = T_other_share\n",
    "N_match = len(T_matched_comp)\n",
    "jd_holding_cost =  []\n",
    "jd_stockout_cost = []\n",
    "jd_total_cost = []\n",
    "jd_turnover = []\n",
    "jd_stockout_ratio = []\n",
    "for n in range(N_match):\n",
    "    inv = T_matched_comp.iloc[n].test_inv\n",
    "    inv =[float(s) for s in inv[1:len(inv)-1].split(',')]\n",
    "    holding_cost = 0\n",
    "    stockout_cost = 0\n",
    "    stockout_day = 0\n",
    "    T =  len(inv)\n",
    "    for t in range(T-1):\n",
    "        cur_inv = inv[t]\n",
    "        if(cur_inv>=0):\n",
    "            holding_cost += h*cur_inv\n",
    "        else:\n",
    "            stockout_cost += -b*cur_inv\n",
    "#             if(T_matched_comp.iloc[n].test_demand[t]<=0):\n",
    "#             if(cur_inv<=0):\n",
    "            stockout_day+=1\n",
    "    turnover = T_matched_comp.iloc[n].ave_inv/T_matched_comp.iloc[n].ave_demand\n",
    "    stockout_ratio = stockout_day/T\n",
    "    \n",
    "    jd_holding_cost.append(holding_cost)\n",
    "    jd_stockout_cost.append(stockout_cost)\n",
    "    jd_total_cost.append(holding_cost+stockout_cost)\n",
    "    jd_turnover.append(turnover)\n",
    "    jd_stockout_ratio.append(stockout_ratio)"
   ]
  },
  {
   "cell_type": "code",
   "execution_count": 112,
   "metadata": {},
   "outputs": [
    {
     "name": "stdout",
     "output_type": "stream",
     "text": [
      "Algorithm B Average Holding cost:  506.46\n",
      "Algorithm B Average Holding Stockout cost:  473.13\n",
      "Algorithm B Average Total cost:  979.59\n",
      "Algorithm B Average Turnover rate:  15.152613035317902\n",
      "Algorithm B Average Stockout rate:  0.19752527930902117\n"
     ]
    }
   ],
   "source": [
    "print('Algorithm B Average Holding cost: ', np.mean(jd_holding_cost))\n",
    "print('Algorithm B Average Holding Stockout cost: ', np.mean(jd_stockout_cost))\n",
    "print('Algorithm B Average Total cost: ', np.mean(jd_total_cost))\n",
    "jd_turnover1 = [max(0, item) for item in jd_turnover]\n",
    "print('Algorithm B Average Turnover rate: ', np.mean(jd_turnover1))\n",
    "print('Algorithm B Average Stockout rate: ', np.mean(jd_stockout_ratio))"
   ]
  },
  {
   "cell_type": "code",
   "execution_count": 113,
   "metadata": {},
   "outputs": [],
   "source": [
    "#holding\n",
    "post = np.array(post_exp_e2e[0])- np.array(post_exp_jd[0])\n",
    "pre = np.array(e2e_holding_cost)- np.array(jd_holding_cost)"
   ]
  },
  {
   "cell_type": "code",
   "execution_count": 114,
   "metadata": {},
   "outputs": [
    {
     "name": "stdout",
     "output_type": "stream",
     "text": [
      "t =  -8.628115507392884\n",
      "p =  2.426748791349065e-17\n"
     ]
    }
   ],
   "source": [
    "a = post\n",
    "b = pre\n",
    "t, p = stats.ttest_ind(a,b)\n",
    "print(\"t = \" , str(t))\n",
    "print(\"p = \" , str(p))\n"
   ]
  },
  {
   "cell_type": "code",
   "execution_count": 115,
   "metadata": {},
   "outputs": [],
   "source": [
    "# DID stockout cost\n",
    "post = np.array(post_exp_e2e[1])- np.array(post_exp_jd[1])\n",
    "pre = np.array(e2e_stockout_cost)- np.array(jd_stockout_cost)"
   ]
  },
  {
   "cell_type": "code",
   "execution_count": 116,
   "metadata": {},
   "outputs": [
    {
     "name": "stdout",
     "output_type": "stream",
     "text": [
      "t =  -10.024732956234065\n",
      "p =  1.3342089234992861e-22\n"
     ]
    }
   ],
   "source": [
    "a = post\n",
    "b = pre\n",
    "t, p = stats.ttest_ind(a,b)\n",
    "print(\"t = \" , str(t))\n",
    "print(\"p = \" , str(p))\n",
    "\n"
   ]
  },
  {
   "cell_type": "code",
   "execution_count": 117,
   "metadata": {},
   "outputs": [],
   "source": [
    "# DID total cost\n",
    "post = np.array(post_exp_e2e[2])- np.array(post_exp_jd[2])\n",
    "pre = np.array(e2e_total_cost)- np.array(jd_total_cost)"
   ]
  },
  {
   "cell_type": "code",
   "execution_count": 118,
   "metadata": {},
   "outputs": [
    {
     "name": "stdout",
     "output_type": "stream",
     "text": [
      "t =  -15.63288508210019\n",
      "p =  1.9298811915945072e-49\n"
     ]
    }
   ],
   "source": [
    "a = post\n",
    "b = pre\n",
    "t, p = stats.ttest_ind(a,b)\n",
    "print(\"t = \" , str(t))\n",
    "print(\"p = \" , str(p))\n",
    "\n"
   ]
  },
  {
   "cell_type": "code",
   "execution_count": 119,
   "metadata": {},
   "outputs": [],
   "source": [
    "# DID turnover rate\n",
    "post = np.array(post_exp_e2e[3])- np.array(post_exp_jd[3])\n",
    "pre = np.array(e2e_turnover1)- np.array(jd_turnover1)"
   ]
  },
  {
   "cell_type": "code",
   "execution_count": 120,
   "metadata": {},
   "outputs": [
    {
     "name": "stdout",
     "output_type": "stream",
     "text": [
      "t =  -2.9015848716410195\n",
      "p =  0.0037943829761408732\n"
     ]
    }
   ],
   "source": [
    "a = post\n",
    "b = pre\n",
    "t, p = stats.ttest_ind(a,b)\n",
    "print(\"t = \" , str(t))\n",
    "print(\"p = \" , str(p))"
   ]
  },
  {
   "cell_type": "code",
   "execution_count": 121,
   "metadata": {},
   "outputs": [],
   "source": [
    "# DID stockout rate\n",
    "post = np.array(post_exp_e2e[4])- np.array(post_exp_jd[4])\n",
    "pre = np.array(e2e_stockout_ratio)- np.array(jd_stockout_ratio)"
   ]
  },
  {
   "cell_type": "code",
   "execution_count": 122,
   "metadata": {},
   "outputs": [
    {
     "name": "stdout",
     "output_type": "stream",
     "text": [
      "t =  -7.674689405907815\n",
      "p =  3.9373204680470405e-14\n"
     ]
    }
   ],
   "source": [
    "a = post\n",
    "b = pre\n",
    "t, p = stats.ttest_ind(a,b)\n",
    "print(\"t = \" , str(t))\n",
    "print(\"p = \" , str(p))"
   ]
  },
  {
   "cell_type": "code",
   "execution_count": null,
   "metadata": {},
   "outputs": [],
   "source": []
  },
  {
   "cell_type": "code",
   "execution_count": null,
   "metadata": {},
   "outputs": [],
   "source": []
  },
  {
   "cell_type": "code",
   "execution_count": null,
   "metadata": {},
   "outputs": [],
   "source": []
  },
  {
   "cell_type": "code",
   "execution_count": null,
   "metadata": {},
   "outputs": [],
   "source": []
  },
  {
   "cell_type": "code",
   "execution_count": null,
   "metadata": {},
   "outputs": [],
   "source": []
  }
 ],
 "metadata": {
  "kernelspec": {
   "display_name": "Python 3",
   "language": "python",
   "name": "python3"
  },
  "language_info": {
   "codemirror_mode": {
    "name": "ipython",
    "version": 3
   },
   "file_extension": ".py",
   "mimetype": "text/x-python",
   "name": "python",
   "nbconvert_exporter": "python",
   "pygments_lexer": "ipython3",
   "version": "3.8.3"
  }
 },
 "nbformat": 4,
 "nbformat_minor": 4
}
