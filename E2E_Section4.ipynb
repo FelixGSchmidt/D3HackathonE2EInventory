{
 "cells": [
  {
   "cell_type": "code",
   "execution_count": 1,
   "metadata": {},
   "outputs": [],
   "source": [
    "import numpy as np\n",
    "import pandas as pd\n",
    "import os\n",
    "import warnings\n",
    "from tqdm import tqdm\n",
    "import math\n",
    "import seaborn as sns\n",
    "\n",
    "from scipy.stats import gamma\n",
    "import datetime as dt"
   ]
  },
  {
   "cell_type": "code",
   "execution_count": 2,
   "metadata": {},
   "outputs": [
    {
     "data": {
      "text/plain": [
       "3000"
      ]
     },
     "execution_count": 2,
     "metadata": {},
     "output_type": "execute_result"
    }
   ],
   "source": [
    "# df_test = pd.read_pickle(\"df_test.pkl\")\n",
    "df_test = pd.read_csv(\"df_test.csv\")\n",
    "len(df_test)"
   ]
  },
  {
   "cell_type": "code",
   "execution_count": 3,
   "metadata": {},
   "outputs": [],
   "source": [
    "#Correct data type\n",
    "df_test['sf_rnn'] = df_test['sf_rnn'].apply(lambda x: x.strip('][').split(', '))\n",
    "df_test['sf_rnn'] = df_test['sf_rnn'].apply(lambda x: pd.to_numeric(x))\n",
    "df_test['demand_hist'] = df_test['demand_hist'].apply(lambda x: pd.to_numeric(x.strip('][').split()))"
   ]
  },
  {
   "cell_type": "markdown",
   "metadata": {},
   "source": [
    "#### PTO benchmark1 and benchmark 2"
   ]
  },
  {
   "cell_type": "code",
   "execution_count": 4,
   "metadata": {},
   "outputs": [],
   "source": [
    "df_test['Bm1_pred'] = df_test['sf_rnn'].apply(lambda x: np.mean(x))\n",
    "df_test['Bm1_pred'] = df_test['Bm1_pred'] * (df_test['review_period'] + df_test['vlt']).astype(int)\n",
    "\n",
    "b = 9\n",
    "h = 1\n",
    "def get_bm2(x):\n",
    "    rl = x['review_period'] + x['vlt']\n",
    "    if rl <= b:\n",
    "        days = int(rl)\n",
    "    else:\n",
    "        days = int(rl) - rl//(b+h)\n",
    "    return x['Bm2_pred'] * days\n",
    "\n",
    "df_test['Bm2_pred'] = df_test['sf_rnn'].apply(lambda x: np.mean(x))\n",
    "df_test['Bm2_pred'] = df_test.apply(get_bm2, axis=1)"
   ]
  },
  {
   "cell_type": "markdown",
   "metadata": {},
   "source": [
    "#### Normal benchmark"
   ]
  },
  {
   "cell_type": "code",
   "execution_count": 5,
   "metadata": {},
   "outputs": [],
   "source": [
    "Z90 = 1.64\n",
    "df_test['Normal_pred'] = df_test.apply(lambda x: int(x['demand_mean']*(x['review_period']+x['vendor_vlt_mean'])\n",
    "                                       +Z90*np.sqrt((x['review_period']+x['vendor_vlt_mean'])*x['demand_std']**2\n",
    "                                                    + x['demand_std']**2 * x['vendor_vlt_std'])), axis=1)"
   ]
  },
  {
   "cell_type": "markdown",
   "metadata": {},
   "source": [
    "#### Gamma benchmark"
   ]
  },
  {
   "cell_type": "code",
   "execution_count": 6,
   "metadata": {},
   "outputs": [],
   "source": [
    "def gamma_base(x):\n",
    "    mean = x['demand_mean']\n",
    "    var = x['demand_std']**2\n",
    "    theta = var/(mean+1e-4)\n",
    "    k = mean/(theta+1e-4)\n",
    "    k_sum = int(x['review_period']+x['vendor_vlt_mean'])*k\n",
    "    gamma_stock = gamma.ppf(0.9, a=k_sum, scale = theta)\n",
    "    if(np.isnan(gamma_stock)):\n",
    "        return 0\n",
    "    else:\n",
    "        return int(gamma_stock)\n",
    "df_test['Gamma_pred'] = df_test.apply(gamma_base, axis=1)"
   ]
  },
  {
   "cell_type": "code",
   "execution_count": 7,
   "metadata": {},
   "outputs": [],
   "source": [
    "df_test = df_test.groupby('SKU').agg(lambda x: x.tolist())"
   ]
  },
  {
   "cell_type": "markdown",
   "metadata": {},
   "source": [
    "### Sequential test model"
   ]
  },
  {
   "cell_type": "code",
   "execution_count": 8,
   "metadata": {},
   "outputs": [],
   "source": [
    "def get_agginv(x, name):\n",
    "    inv1, inv2 = [x['initial_stock'][0]], []\n",
    "    rd = len(x['OPT_pred'])\n",
    " \n",
    "    for r in range(rd):\n",
    "        if r < rd - 1:\n",
    "            len_day = len(x['demand_hist'][r])-1\n",
    "        else:\n",
    "            len_day = len(x['demand_hist'][r])\n",
    "        for t in range(len_day):\n",
    "            if t == 0:\n",
    "                if r == 0:\n",
    "                    replen = int(round(x[name+'_pred'][r] - inv1[0]))\n",
    "                else:\n",
    "                    try:\n",
    "                        replen = int(round(x[name+'_pred'][r] - inv1[-int(round(x['vlt'][r]))-1]))\n",
    "                    except:\n",
    "                        replen = int(round(x[name+'_pred'][r] - inv1[1]))\n",
    "            if t < int(round(x['vlt'][r])):\n",
    "                if r == 0:\n",
    "                    inv1.append(inv1[-1] - x['demand_hist'][r][t])\n",
    "            elif t == int(round(x['vlt'][r])):\n",
    "                if inv1[-1] >= 0:\n",
    "                    inv_ = inv1[-1] + replen - x['demand_hist'][r][t]\n",
    "                else:\n",
    "                    inv_ = replen - x['demand_hist'][r][t]\n",
    "                inv1.append(inv_)\n",
    "                inv2.append(inv_)\n",
    "            else:\n",
    "                inv_ = inv1[-1] - x['demand_hist'][r][t]\n",
    "                inv1.append(inv_)\n",
    "                inv2.append(inv_)\n",
    "    \n",
    "    inv1 = inv1[1:]\n",
    "    return [inv1, inv2]"
   ]
  },
  {
   "cell_type": "code",
   "execution_count": 9,
   "metadata": {},
   "outputs": [],
   "source": [
    "df_test['OPT_agginv_f'], df_test['OPT_agginv'] = zip(*df_test.apply(get_agginv, name='OPT',  axis=1))\n",
    "df_test['E2E_RNN_agginv_f'], df_test['E2E_RNN_agginv'] = zip(*df_test.apply(get_agginv, name='E2E_RNN',  axis=1))\n",
    "df_test['Bm1_agginv_f'], df_test['Bm1_agginv'] = zip(*df_test.apply(get_agginv, name='Bm1',  axis=1))\n",
    "df_test['Bm2_agginv_f'], df_test['Bm2_agginv'] = zip(*df_test.apply(get_agginv, name='Bm2',  axis=1))\n",
    "df_test['Normal_agginv_f'], df_test['Normal_agginv'] = zip(*df_test.apply(get_agginv, name='Normal',  axis=1))\n",
    "df_test['Gamma_agginv_f'], df_test['Gamma_agginv'] = zip(*df_test.apply(get_agginv, name='Gamma',  axis=1))\n",
    "df_test['gbm_agginv_f'], df_test['gbm_agginv'] = zip(*df_test.apply(get_agginv, name='gbm',  axis=1))"
   ]
  },
  {
   "cell_type": "markdown",
   "metadata": {},
   "source": [
    "### Calculate cost"
   ]
  },
  {
   "cell_type": "code",
   "execution_count": 10,
   "metadata": {},
   "outputs": [],
   "source": [
    "h = 1\n",
    "b = 9\n",
    "str_list = ['OPT', 'E2E_RNN', 'Bm1', 'Bm2', 'Normal', 'Gamma', 'gbm']\n",
    "numberOfRows = len(df_test)\n",
    "df_cost_agg = pd.DataFrame(index=np.arange(0, numberOfRows), columns=str_list)\n",
    "df_holding_agg = pd.DataFrame(index=np.arange(0, numberOfRows), columns=str_list)\n",
    "df_back_agg = pd.DataFrame(index=np.arange(0, numberOfRows), columns=str_list)\n",
    "df_stockout_agg = pd.DataFrame(index=np.arange(0, numberOfRows), columns=str_list)\n",
    "df_turnover_agg = pd.DataFrame(index=np.arange(0, numberOfRows), columns=str_list)\n",
    "\n",
    "\n",
    "df_test_ = df_test.reset_index(drop=True)\n",
    "for str1 in str_list:\n",
    "    str2 = str1 + '_agginv'\n",
    "    df_holding_agg[str1] = df_test_[str2].apply(lambda x: h * sum([inv for inv in x if inv>0]) )\n",
    "    df_back_agg[str1] = df_test_[str2].apply(lambda x: b * -sum([inv for inv in x if inv<0]) )\n",
    "    df_cost_agg[str1] = df_holding_agg[str1] + df_back_agg[str1] "
   ]
  },
  {
   "cell_type": "code",
   "execution_count": 11,
   "metadata": {},
   "outputs": [
    {
     "data": {
      "text/html": [
       "<div>\n",
       "<style scoped>\n",
       "    .dataframe tbody tr th:only-of-type {\n",
       "        vertical-align: middle;\n",
       "    }\n",
       "\n",
       "    .dataframe tbody tr th {\n",
       "        vertical-align: top;\n",
       "    }\n",
       "\n",
       "    .dataframe thead th {\n",
       "        text-align: right;\n",
       "    }\n",
       "</style>\n",
       "<table border=\"1\" class=\"dataframe\">\n",
       "  <thead>\n",
       "    <tr style=\"text-align: right;\">\n",
       "      <th></th>\n",
       "      <th>OPT</th>\n",
       "      <th>E2E_RNN</th>\n",
       "      <th>Bm1</th>\n",
       "      <th>Bm2</th>\n",
       "      <th>Normal</th>\n",
       "      <th>Gamma</th>\n",
       "      <th>gbm</th>\n",
       "    </tr>\n",
       "  </thead>\n",
       "  <tbody>\n",
       "    <tr>\n",
       "      <th>Total cost</th>\n",
       "      <td>2572.964327</td>\n",
       "      <td>3036.758343</td>\n",
       "      <td>3842.305332</td>\n",
       "      <td>3837.828539</td>\n",
       "      <td>3961.691600</td>\n",
       "      <td>4099.949751</td>\n",
       "      <td>3424.869965</td>\n",
       "    </tr>\n",
       "    <tr>\n",
       "      <th>Holding cost</th>\n",
       "      <td>1363.218642</td>\n",
       "      <td>1883.591484</td>\n",
       "      <td>1709.364020</td>\n",
       "      <td>1541.630610</td>\n",
       "      <td>2317.097814</td>\n",
       "      <td>1947.838128</td>\n",
       "      <td>1424.929804</td>\n",
       "    </tr>\n",
       "    <tr>\n",
       "      <th>Stockout cost</th>\n",
       "      <td>1209.745685</td>\n",
       "      <td>1153.166858</td>\n",
       "      <td>2132.941312</td>\n",
       "      <td>2296.197929</td>\n",
       "      <td>1644.593786</td>\n",
       "      <td>2152.111623</td>\n",
       "      <td>1999.940161</td>\n",
       "    </tr>\n",
       "  </tbody>\n",
       "</table>\n",
       "</div>"
      ],
      "text/plain": [
       "                       OPT      E2E_RNN          Bm1          Bm2  \\\n",
       "Total cost     2572.964327  3036.758343  3842.305332  3837.828539   \n",
       "Holding cost   1363.218642  1883.591484  1709.364020  1541.630610   \n",
       "Stockout cost  1209.745685  1153.166858  2132.941312  2296.197929   \n",
       "\n",
       "                    Normal        Gamma          gbm  \n",
       "Total cost     3961.691600  4099.949751  3424.869965  \n",
       "Holding cost   2317.097814  1947.838128  1424.929804  \n",
       "Stockout cost  1644.593786  2152.111623  1999.940161  "
      ]
     },
     "execution_count": 11,
     "metadata": {},
     "output_type": "execute_result"
    }
   ],
   "source": [
    "df_aggcom = pd.DataFrame({'Total cost': df_cost_agg[str_list].mean(),\n",
    "             'Holding cost': df_holding_agg[str_list].mean(),\n",
    "             'Stockout cost': df_back_agg[str_list].mean()}).T\n",
    "df_aggcom"
   ]
  },
  {
   "cell_type": "code",
   "execution_count": 12,
   "metadata": {},
   "outputs": [
    {
     "name": "stdout",
     "output_type": "stream",
     "text": [
      "\\begin{tabular}{lrrrrrrr}\n",
      "\\toprule\n",
      "{} &     OPT &  E2E\\_RNN &     Bm1 &     Bm2 &  Normal &   Gamma &     gbm \\\\\n",
      "\\midrule\n",
      "Total cost    & 2572.96 &  3036.76 & 3842.31 & 3837.83 & 3961.69 & 4099.95 & 3424.87 \\\\\n",
      "Holding cost  & 1363.22 &  1883.59 & 1709.36 & 1541.63 & 2317.10 & 1947.84 & 1424.93 \\\\\n",
      "Stockout cost & 1209.75 &  1153.17 & 2132.94 & 2296.20 & 1644.59 & 2152.11 & 1999.94 \\\\\n",
      "\\bottomrule\n",
      "\\end{tabular}\n",
      "\n"
     ]
    },
    {
     "name": "stderr",
     "output_type": "stream",
     "text": [
      "/var/folders/8c/bv99bkt927d5cb60c1q8n6b00000gp/T/ipykernel_47485/1135118302.py:1: FutureWarning: In future versions `DataFrame.to_latex` is expected to utilise the base implementation of `Styler.to_latex` for formatting and rendering. The arguments signature may therefore change. It is recommended instead to use `DataFrame.style.to_latex` which also contains additional functionality.\n",
      "  print(df_aggcom.to_latex(float_format=lambda x: '%.2f' % x))\n"
     ]
    }
   ],
   "source": [
    "print(df_aggcom.to_latex(float_format=lambda x: '%.2f' % x))"
   ]
  },
  {
   "cell_type": "code",
   "execution_count": null,
   "metadata": {},
   "outputs": [],
   "source": []
  },
  {
   "cell_type": "code",
   "execution_count": null,
   "metadata": {},
   "outputs": [],
   "source": []
  }
 ],
 "metadata": {
  "kernelspec": {
   "display_name": "Python 3 (ipykernel)",
   "language": "python",
   "name": "python3"
  },
  "language_info": {
   "codemirror_mode": {
    "name": "ipython",
    "version": 3
   },
   "file_extension": ".py",
   "mimetype": "text/x-python",
   "name": "python",
   "nbconvert_exporter": "python",
   "pygments_lexer": "ipython3",
   "version": "3.10.6"
  }
 },
 "nbformat": 4,
 "nbformat_minor": 4
}
